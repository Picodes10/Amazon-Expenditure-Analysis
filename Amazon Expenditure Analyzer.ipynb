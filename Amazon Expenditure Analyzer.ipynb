{
 "cells": [
  {
   "cell_type": "code",
   "execution_count": 1,
   "id": "bd372bc7-6e84-4757-b71d-d3a46563dbba",
   "metadata": {},
   "outputs": [],
   "source": [
    "import pandas as pd"
   ]
  },
  {
   "cell_type": "code",
   "execution_count": null,
   "id": "eaf35acf-913d-499e-9a63-f14299fc4136",
   "metadata": {},
   "outputs": [],
   "source": [
    "df = pd.read_csv()\n",
    "df"
   ]
  },
  {
   "cell_type": "code",
   "execution_count": null,
   "id": "6f92488a-72ba-41e2-b355-9bd2664f6003",
   "metadata": {},
   "outputs": [],
   "source": [
    "df.head()"
   ]
  },
  {
   "cell_type": "code",
   "execution_count": null,
   "id": "d87bcbf2-20ba-4c40-b8f8-2b774b5bdb75",
   "metadata": {},
   "outputs": [],
   "source": [
    "df.shape"
   ]
  },
  {
   "cell_type": "code",
   "execution_count": null,
   "id": "ce58495e-9ad1-4937-bfe9-ddb23601a4ba",
   "metadata": {},
   "outputs": [],
   "source": [
    "df = df.fillna(0)\n",
    "df.head()"
   ]
  },
  {
   "cell_type": "code",
   "execution_count": null,
   "id": "eb8c068f-da23-4854-bd86-31dfbf806cde",
   "metadata": {},
   "outputs": [],
   "source": [
    "df[\"Total Charged\"] = df[\"Total Charged\"].str.replace('$','').astype(float)\n",
    "df.head()"
   ]
  },
  {
   "cell_type": "code",
   "execution_count": null,
   "id": "2e508eb7-72ec-40f4-a3b5-1bbca9564523",
   "metadata": {},
   "outputs": [],
   "source": [
    "df[\"Total Charged\"].sum()"
   ]
  },
  {
   "cell_type": "code",
   "execution_count": null,
   "id": "3514d1d0-5361-4f3c-9830-34fd18e36d3e",
   "metadata": {},
   "outputs": [],
   "source": [
    "df[\"Total Charged\"].mean()"
   ]
  },
  {
   "cell_type": "code",
   "execution_count": null,
   "id": "6c51f1ad-efac-4512-b6df-b6b606fdc733",
   "metadata": {},
   "outputs": [],
   "source": [
    "df[\"Total Charged\"].median()"
   ]
  },
  {
   "cell_type": "code",
   "execution_count": null,
   "id": "7b70bc97-450a-47ae-93e4-a04ab23a7703",
   "metadata": {},
   "outputs": [],
   "source": [
    "df[\"Total Charged\"].max()"
   ]
  },
  {
   "cell_type": "code",
   "execution_count": null,
   "id": "1a79dd1b-430a-4989-aec5-586ea517e52e",
   "metadata": {},
   "outputs": [],
   "source": [
    "df[\"Total Charged\"].min()"
   ]
  },
  {
   "cell_type": "code",
   "execution_count": null,
   "id": "d7baef67-d82a-4b28-836a-00744a552d63",
   "metadata": {},
   "outputs": [],
   "source": [
    "df[\"Tax Charged\"] = df[\"Tax Charged\"].str.replace('$','').astype(float)\n",
    "df.head()"
   ]
  },
  {
   "cell_type": "code",
   "execution_count": null,
   "id": "68ca081c-2b32-4e3c-beae-574bc4bfacbc",
   "metadata": {},
   "outputs": [],
   "source": [
    "df[\"Tax Charged\"].sum()"
   ]
  },
  {
   "cell_type": "code",
   "execution_count": null,
   "id": "a1b4c9e1-7210-4454-a10a-77a3efe31f28",
   "metadata": {},
   "outputs": [],
   "source": [
    "df[\"Tax Charged\"].sum() / df[\"Total Charged\"].sum()"
   ]
  },
  {
   "cell_type": "code",
   "execution_count": null,
   "id": "28dd2b99-475a-4140-8716-0ddb2a9a8048",
   "metadata": {},
   "outputs": [],
   "source": [
    "df['Order Date'] = pd.to_datetime(df['Order Date'])\n",
    "df.head()"
   ]
  },
  {
   "cell_type": "code",
   "execution_count": null,
   "id": "830fff26-780a-4b03-8f99-4503ca7a7985",
   "metadata": {},
   "outputs": [],
   "source": [
    "df.plot.bar(x='Order Date', y='Total Charged', rot=90)"
   ]
  },
  {
   "cell_type": "code",
   "execution_count": null,
   "id": "419a2c13-5f2d-486c-a97d-f96c0616a671",
   "metadata": {},
   "outputs": [],
   "source": [
    "df.plot.bar(x='Order Date', y='Total Charged', rot=90, figsize=(20,10))"
   ]
  },
  {
   "cell_type": "code",
   "execution_count": null,
   "id": "64019ff7-ce4b-4f61-863c-da8c06a08913",
   "metadata": {},
   "outputs": [],
   "source": [
    "daily_orders = df.groupby('Order Date').sum()[\"Total Charged\"]\n",
    "daily_orders.head()"
   ]
  },
  {
   "cell_type": "code",
   "execution_count": null,
   "id": "fd4bcc81-22e2-4be6-ba5f-09026ff9ec1c",
   "metadata": {},
   "outputs": [],
   "source": [
    "daily_orders.plot.bar(figsize=(20,10))"
   ]
  },
  {
   "cell_type": "code",
   "execution_count": null,
   "id": "6262dfe2-c3d1-40af-8f7b-4532dfb0a98f",
   "metadata": {},
   "outputs": [],
   "source": [
    "daily_orders.plot.bar(figsize=(20, 10), color='#61D199')"
   ]
  },
  {
   "cell_type": "code",
   "execution_count": null,
   "id": "30ec6fb2-fc8a-45e8-adbd-d965111fb35a",
   "metadata": {},
   "outputs": [],
   "source": []
  }
 ],
 "metadata": {
  "kernelspec": {
   "display_name": "Python 3 (ipykernel)",
   "language": "python",
   "name": "python3"
  },
  "language_info": {
   "codemirror_mode": {
    "name": "ipython",
    "version": 3
   },
   "file_extension": ".py",
   "mimetype": "text/x-python",
   "name": "python",
   "nbconvert_exporter": "python",
   "pygments_lexer": "ipython3",
   "version": "3.12.3"
  }
 },
 "nbformat": 4,
 "nbformat_minor": 5
}
